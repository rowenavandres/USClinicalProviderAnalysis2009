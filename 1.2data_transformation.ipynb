{
 "cells": [
  {
   "cell_type": "markdown",
   "metadata": {},
   "source": [
    "# Data Transformation\n",
    "\n",
    "## US Clinical Provider 2009\n",
    "\n",
    "**Source**: National Plan and Provider Enumeration System (NPPES) | NBER\n",
    "\n",
    "**Data set**: Provider.csv\n",
    "        "
   ]
  },
  {
   "cell_type": "code",
   "execution_count": 1,
   "metadata": {},
   "outputs": [],
   "source": [
    "# Import necessary libraries\n",
    "import pandas as pd\n",
    "import re\n",
    "from csv import QUOTE_ALL"
   ]
  },
  {
   "cell_type": "markdown",
   "metadata": {},
   "source": [
    "* Filter only the necessary data"
   ]
  },
  {
   "cell_type": "code",
   "execution_count": 2,
   "metadata": {},
   "outputs": [
    {
     "name": "stdout",
     "output_type": "stream",
     "text": [
      "(7541570, 6)\n"
     ]
    },
    {
     "data": {
      "text/html": [
       "<div>\n",
       "<style scoped>\n",
       "    .dataframe tbody tr th:only-of-type {\n",
       "        vertical-align: middle;\n",
       "    }\n",
       "\n",
       "    .dataframe tbody tr th {\n",
       "        vertical-align: top;\n",
       "    }\n",
       "\n",
       "    .dataframe thead th {\n",
       "        text-align: right;\n",
       "    }\n",
       "</style>\n",
       "<table border=\"1\" class=\"dataframe\">\n",
       "  <thead>\n",
       "    <tr style=\"text-align: right;\">\n",
       "      <th></th>\n",
       "      <th>Provider</th>\n",
       "      <th>Individual</th>\n",
       "      <th>Zip</th>\n",
       "      <th>City</th>\n",
       "      <th>State</th>\n",
       "      <th>Country</th>\n",
       "    </tr>\n",
       "  </thead>\n",
       "  <tbody>\n",
       "    <tr>\n",
       "      <th>0</th>\n",
       "      <td>1003000100</td>\n",
       "      <td>True</td>\n",
       "      <td>900053200</td>\n",
       "      <td>LOS ANGELES</td>\n",
       "      <td>CA</td>\n",
       "      <td>US</td>\n",
       "    </tr>\n",
       "    <tr>\n",
       "      <th>1</th>\n",
       "      <td>1003000118</td>\n",
       "      <td>False</td>\n",
       "      <td>285602304</td>\n",
       "      <td>NEW BERN</td>\n",
       "      <td>NC</td>\n",
       "      <td>US</td>\n",
       "    </tr>\n",
       "    <tr>\n",
       "      <th>2</th>\n",
       "      <td>1003000126</td>\n",
       "      <td>True</td>\n",
       "      <td>208171841</td>\n",
       "      <td>BETHESDA</td>\n",
       "      <td>MD</td>\n",
       "      <td>US</td>\n",
       "    </tr>\n",
       "    <tr>\n",
       "      <th>3</th>\n",
       "      <td>1003000134</td>\n",
       "      <td>True</td>\n",
       "      <td>602011718</td>\n",
       "      <td>EVANSTON</td>\n",
       "      <td>IL</td>\n",
       "      <td>US</td>\n",
       "    </tr>\n",
       "    <tr>\n",
       "      <th>4</th>\n",
       "      <td>1003000142</td>\n",
       "      <td>True</td>\n",
       "      <td>436233536</td>\n",
       "      <td>TOLEDO</td>\n",
       "      <td>OH</td>\n",
       "      <td>US</td>\n",
       "    </tr>\n",
       "    <tr>\n",
       "      <th>...</th>\n",
       "      <td>...</td>\n",
       "      <td>...</td>\n",
       "      <td>...</td>\n",
       "      <td>...</td>\n",
       "      <td>...</td>\n",
       "      <td>...</td>\n",
       "    </tr>\n",
       "    <tr>\n",
       "      <th>7794256</th>\n",
       "      <td>1992999858</td>\n",
       "      <td>True</td>\n",
       "      <td>136025438</td>\n",
       "      <td>FORT DRUM</td>\n",
       "      <td>NY</td>\n",
       "      <td>US</td>\n",
       "    </tr>\n",
       "    <tr>\n",
       "      <th>7794257</th>\n",
       "      <td>1992999866</td>\n",
       "      <td>True</td>\n",
       "      <td>331624505</td>\n",
       "      <td>NORTH MIAMI BEACH</td>\n",
       "      <td>FL</td>\n",
       "      <td>US</td>\n",
       "    </tr>\n",
       "    <tr>\n",
       "      <th>7794258</th>\n",
       "      <td>1992999874</td>\n",
       "      <td>True</td>\n",
       "      <td>232270000</td>\n",
       "      <td>RICHMOND</td>\n",
       "      <td>VA</td>\n",
       "      <td>US</td>\n",
       "    </tr>\n",
       "    <tr>\n",
       "      <th>7794259</th>\n",
       "      <td>1992999882</td>\n",
       "      <td>True</td>\n",
       "      <td>187640999</td>\n",
       "      <td>WILKES BARRE</td>\n",
       "      <td>PA</td>\n",
       "      <td>US</td>\n",
       "    </tr>\n",
       "    <tr>\n",
       "      <th>7794260</th>\n",
       "      <td>1992999890</td>\n",
       "      <td>False</td>\n",
       "      <td>622311811</td>\n",
       "      <td>CARLYLE</td>\n",
       "      <td>IL</td>\n",
       "      <td>US</td>\n",
       "    </tr>\n",
       "  </tbody>\n",
       "</table>\n",
       "<p>7541570 rows × 6 columns</p>\n",
       "</div>"
      ],
      "text/plain": [
       "           Provider  Individual        Zip               City State Country\n",
       "0        1003000100        True  900053200        LOS ANGELES    CA      US\n",
       "1        1003000118       False  285602304           NEW BERN    NC      US\n",
       "2        1003000126        True  208171841           BETHESDA    MD      US\n",
       "3        1003000134        True  602011718           EVANSTON    IL      US\n",
       "4        1003000142        True  436233536             TOLEDO    OH      US\n",
       "...             ...         ...        ...                ...   ...     ...\n",
       "7794256  1992999858        True  136025438          FORT DRUM    NY      US\n",
       "7794257  1992999866        True  331624505  NORTH MIAMI BEACH    FL      US\n",
       "7794258  1992999874        True  232270000           RICHMOND    VA      US\n",
       "7794259  1992999882        True  187640999       WILKES BARRE    PA      US\n",
       "7794260  1992999890       False  622311811            CARLYLE    IL      US\n",
       "\n",
       "[7541570 rows x 6 columns]"
      ]
     },
     "metadata": {},
     "output_type": "display_data"
    }
   ],
   "source": [
    "# Read csv file\n",
    "provider = pd.read_csv('data\\Extract2009-FullDoubleQuotes\\Provider.csv')\n",
    "\n",
    "# Filter data only for US\n",
    "data = provider[(provider['Country']=='US')]\n",
    "print(data.shape)\n",
    "display(data)"
   ]
  },
  {
   "cell_type": "markdown",
   "metadata": {},
   "source": [
    "**NOTE**: The original shape of data frame is \n",
    "    7541570 rows by 6 columns"
   ]
  },
  {
   "cell_type": "markdown",
   "metadata": {},
   "source": [
    "* Check special character in Country, State and City field of Provider.csv file"
   ]
  },
  {
   "cell_type": "code",
   "execution_count": 3,
   "metadata": {
    "scrolled": true
   },
   "outputs": [
    {
     "name": "stdout",
     "output_type": "stream",
     "text": [
      "\\/\n",
      "None\n"
     ]
    },
    {
     "name": "stderr",
     "output_type": "stream",
     "text": [
      "C:\\Users\\denni\\AppData\\Local\\Temp\\ipykernel_21856\\3219559456.py:13: SettingWithCopyWarning: \n",
      "A value is trying to be set on a copy of a slice from a DataFrame.\n",
      "Try using .loc[row_indexer,col_indexer] = value instead\n",
      "\n",
      "See the caveats in the documentation: https://pandas.pydata.org/pandas-docs/stable/user_guide/indexing.html#returning-a-view-versus-a-copy\n",
      "  data.loc[0:,'SpecialChar'] = data.loc[:,'City'].astype(str).apply(check_special_char)\n"
     ]
    },
    {
     "name": "stdout",
     "output_type": "stream",
     "text": [
      "City having special character: Provider       8720\n",
      "Individual     8720\n",
      "Zip            8720\n",
      "City           8720\n",
      "State          8720\n",
      "Country        8720\n",
      "SpecialChar    8720\n",
      "dtype: int64\n"
     ]
    },
    {
     "data": {
      "text/html": [
       "<div>\n",
       "<style scoped>\n",
       "    .dataframe tbody tr th:only-of-type {\n",
       "        vertical-align: middle;\n",
       "    }\n",
       "\n",
       "    .dataframe tbody tr th {\n",
       "        vertical-align: top;\n",
       "    }\n",
       "\n",
       "    .dataframe thead th {\n",
       "        text-align: right;\n",
       "    }\n",
       "</style>\n",
       "<table border=\"1\" class=\"dataframe\">\n",
       "  <thead>\n",
       "    <tr style=\"text-align: right;\">\n",
       "      <th></th>\n",
       "      <th>Provider</th>\n",
       "      <th>Individual</th>\n",
       "      <th>Zip</th>\n",
       "      <th>City</th>\n",
       "      <th>State</th>\n",
       "      <th>Country</th>\n",
       "      <th>SpecialChar</th>\n",
       "    </tr>\n",
       "  </thead>\n",
       "  <tbody>\n",
       "    <tr>\n",
       "      <th>1585</th>\n",
       "      <td>1003015975</td>\n",
       "      <td>True</td>\n",
       "      <td>631416340</td>\n",
       "      <td>ST. LOUIS</td>\n",
       "      <td>MO</td>\n",
       "      <td>US</td>\n",
       "      <td>.</td>\n",
       "    </tr>\n",
       "    <tr>\n",
       "      <th>3342</th>\n",
       "      <td>1003033572</td>\n",
       "      <td>True</td>\n",
       "      <td>631310000</td>\n",
       "      <td>ST. LOUIS</td>\n",
       "      <td>MO</td>\n",
       "      <td>US</td>\n",
       "      <td>.</td>\n",
       "    </tr>\n",
       "    <tr>\n",
       "      <th>3808</th>\n",
       "      <td>1003038241</td>\n",
       "      <td>False</td>\n",
       "      <td>551040000</td>\n",
       "      <td>ST. PAUL</td>\n",
       "      <td>MN</td>\n",
       "      <td>US</td>\n",
       "      <td>.</td>\n",
       "    </tr>\n",
       "    <tr>\n",
       "      <th>3827</th>\n",
       "      <td>1003038431</td>\n",
       "      <td>True</td>\n",
       "      <td>857074405</td>\n",
       "      <td>DAVIS-MONTHAN AFB</td>\n",
       "      <td>AZ</td>\n",
       "      <td>US</td>\n",
       "      <td>-</td>\n",
       "    </tr>\n",
       "    <tr>\n",
       "      <th>4313</th>\n",
       "      <td>1003043290</td>\n",
       "      <td>False</td>\n",
       "      <td>601180000</td>\n",
       "      <td>W. DUNDEE</td>\n",
       "      <td>IL</td>\n",
       "      <td>US</td>\n",
       "      <td>.</td>\n",
       "    </tr>\n",
       "    <tr>\n",
       "      <th>...</th>\n",
       "      <td>...</td>\n",
       "      <td>...</td>\n",
       "      <td>...</td>\n",
       "      <td>...</td>\n",
       "      <td>...</td>\n",
       "      <td>...</td>\n",
       "      <td>...</td>\n",
       "    </tr>\n",
       "    <tr>\n",
       "      <th>7789947</th>\n",
       "      <td>1992956684</td>\n",
       "      <td>True</td>\n",
       "      <td>333080000</td>\n",
       "      <td>FT. LAUDERDALE</td>\n",
       "      <td>FL</td>\n",
       "      <td>US</td>\n",
       "      <td>.</td>\n",
       "    </tr>\n",
       "    <tr>\n",
       "      <th>7790346</th>\n",
       "      <td>1992960686</td>\n",
       "      <td>False</td>\n",
       "      <td>967920000</td>\n",
       "      <td>WAI'ANAE</td>\n",
       "      <td>HI</td>\n",
       "      <td>US</td>\n",
       "      <td>'</td>\n",
       "    </tr>\n",
       "    <tr>\n",
       "      <th>7790475</th>\n",
       "      <td>1992961973</td>\n",
       "      <td>False</td>\n",
       "      <td>329040000</td>\n",
       "      <td>W. MELBOURNE</td>\n",
       "      <td>FL</td>\n",
       "      <td>US</td>\n",
       "      <td>.</td>\n",
       "    </tr>\n",
       "    <tr>\n",
       "      <th>7792696</th>\n",
       "      <td>1992984231</td>\n",
       "      <td>True</td>\n",
       "      <td>554162699</td>\n",
       "      <td>ST. LOUIS PARK</td>\n",
       "      <td>MN</td>\n",
       "      <td>US</td>\n",
       "      <td>.</td>\n",
       "    </tr>\n",
       "    <tr>\n",
       "      <th>7794200</th>\n",
       "      <td>1992999296</td>\n",
       "      <td>True</td>\n",
       "      <td>870260000</td>\n",
       "      <td>TO'HAJIILEE</td>\n",
       "      <td>NM</td>\n",
       "      <td>US</td>\n",
       "      <td>'</td>\n",
       "    </tr>\n",
       "  </tbody>\n",
       "</table>\n",
       "<p>8720 rows × 7 columns</p>\n",
       "</div>"
      ],
      "text/plain": [
       "           Provider  Individual        Zip               City State Country  \\\n",
       "1585     1003015975        True  631416340          ST. LOUIS    MO      US   \n",
       "3342     1003033572        True  631310000          ST. LOUIS    MO      US   \n",
       "3808     1003038241       False  551040000           ST. PAUL    MN      US   \n",
       "3827     1003038431        True  857074405  DAVIS-MONTHAN AFB    AZ      US   \n",
       "4313     1003043290       False  601180000          W. DUNDEE    IL      US   \n",
       "...             ...         ...        ...                ...   ...     ...   \n",
       "7789947  1992956684        True  333080000     FT. LAUDERDALE    FL      US   \n",
       "7790346  1992960686       False  967920000           WAI'ANAE    HI      US   \n",
       "7790475  1992961973       False  329040000       W. MELBOURNE    FL      US   \n",
       "7792696  1992984231        True  554162699     ST. LOUIS PARK    MN      US   \n",
       "7794200  1992999296        True  870260000        TO'HAJIILEE    NM      US   \n",
       "\n",
       "        SpecialChar  \n",
       "1585              .  \n",
       "3342              .  \n",
       "3808              .  \n",
       "3827              -  \n",
       "4313              .  \n",
       "...             ...  \n",
       "7789947           .  \n",
       "7790346           '  \n",
       "7790475           .  \n",
       "7792696           .  \n",
       "7794200           '  \n",
       "\n",
       "[8720 rows x 7 columns]"
      ]
     },
     "execution_count": 3,
     "metadata": {},
     "output_type": "execute_result"
    }
   ],
   "source": [
    "# Function to check special character from given text\n",
    "def check_special_char(text):\n",
    "    special_char =\"\".join(ch for ch in text if (ch.isalnum()==False and ch.isspace()==False))\n",
    "    if len(special_char) > 0:\n",
    "        return special_char\n",
    "    else:\n",
    "        return None\n",
    "\n",
    "# Test\n",
    "print(check_special_char('\\/WALDEN'))\n",
    "print(check_special_char('LOS ANGELES\t'))\n",
    "\n",
    "data.loc[0:,'SpecialChar'] = data.loc[:,'City'].astype(str).apply(check_special_char)\n",
    "print('City having special character:', data.loc[data['SpecialChar'].isna()==False].count())\n",
    "data.loc[data['SpecialChar'].isna()==False]"
   ]
  },
  {
   "cell_type": "markdown",
   "metadata": {},
   "source": [
    "There are total of **8720 records** that has special character"
   ]
  },
  {
   "cell_type": "markdown",
   "metadata": {},
   "source": [
    "* Count occurrence of each special character"
   ]
  },
  {
   "cell_type": "code",
   "execution_count": 4,
   "metadata": {},
   "outputs": [
    {
     "data": {
      "text/html": [
       "<div>\n",
       "<style scoped>\n",
       "    .dataframe tbody tr th:only-of-type {\n",
       "        vertical-align: middle;\n",
       "    }\n",
       "\n",
       "    .dataframe tbody tr th {\n",
       "        vertical-align: top;\n",
       "    }\n",
       "\n",
       "    .dataframe thead th {\n",
       "        text-align: right;\n",
       "    }\n",
       "</style>\n",
       "<table border=\"1\" class=\"dataframe\">\n",
       "  <thead>\n",
       "    <tr style=\"text-align: right;\">\n",
       "      <th></th>\n",
       "      <th>SpecialChar</th>\n",
       "      <th>City</th>\n",
       "    </tr>\n",
       "  </thead>\n",
       "  <tbody>\n",
       "    <tr>\n",
       "      <th>21</th>\n",
       "      <td>.</td>\n",
       "      <td>5802</td>\n",
       "    </tr>\n",
       "    <tr>\n",
       "      <th>16</th>\n",
       "      <td>-</td>\n",
       "      <td>1516</td>\n",
       "    </tr>\n",
       "    <tr>\n",
       "      <th>10</th>\n",
       "      <td>,</td>\n",
       "      <td>680</td>\n",
       "    </tr>\n",
       "    <tr>\n",
       "      <th>2</th>\n",
       "      <td>'</td>\n",
       "      <td>428</td>\n",
       "    </tr>\n",
       "    <tr>\n",
       "      <th>25</th>\n",
       "      <td>..</td>\n",
       "      <td>80</td>\n",
       "    </tr>\n",
       "    <tr>\n",
       "      <th>18</th>\n",
       "      <td>--</td>\n",
       "      <td>41</td>\n",
       "    </tr>\n",
       "    <tr>\n",
       "      <th>5</th>\n",
       "      <td>()</td>\n",
       "      <td>32</td>\n",
       "    </tr>\n",
       "    <tr>\n",
       "      <th>29</th>\n",
       "      <td>/</td>\n",
       "      <td>25</td>\n",
       "    </tr>\n",
       "    <tr>\n",
       "      <th>1</th>\n",
       "      <td>&amp;</td>\n",
       "      <td>21</td>\n",
       "    </tr>\n",
       "    <tr>\n",
       "      <th>22</th>\n",
       "      <td>.'</td>\n",
       "      <td>14</td>\n",
       "    </tr>\n",
       "    <tr>\n",
       "      <th>24</th>\n",
       "      <td>.,</td>\n",
       "      <td>13</td>\n",
       "    </tr>\n",
       "    <tr>\n",
       "      <th>14</th>\n",
       "      <td>,.</td>\n",
       "      <td>11</td>\n",
       "    </tr>\n",
       "    <tr>\n",
       "      <th>12</th>\n",
       "      <td>,,</td>\n",
       "      <td>10</td>\n",
       "    </tr>\n",
       "    <tr>\n",
       "      <th>27</th>\n",
       "      <td>...</td>\n",
       "      <td>7</td>\n",
       "    </tr>\n",
       "    <tr>\n",
       "      <th>19</th>\n",
       "      <td>---</td>\n",
       "      <td>7</td>\n",
       "    </tr>\n",
       "    <tr>\n",
       "      <th>32</th>\n",
       "      <td>;</td>\n",
       "      <td>6</td>\n",
       "    </tr>\n",
       "    <tr>\n",
       "      <th>15</th>\n",
       "      <td>,..</td>\n",
       "      <td>6</td>\n",
       "    </tr>\n",
       "    <tr>\n",
       "      <th>20</th>\n",
       "      <td>-.</td>\n",
       "      <td>3</td>\n",
       "    </tr>\n",
       "    <tr>\n",
       "      <th>13</th>\n",
       "      <td>,-</td>\n",
       "      <td>2</td>\n",
       "    </tr>\n",
       "    <tr>\n",
       "      <th>11</th>\n",
       "      <td>,()</td>\n",
       "      <td>2</td>\n",
       "    </tr>\n",
       "    <tr>\n",
       "      <th>17</th>\n",
       "      <td>-,</td>\n",
       "      <td>2</td>\n",
       "    </tr>\n",
       "    <tr>\n",
       "      <th>4</th>\n",
       "      <td>'.</td>\n",
       "      <td>1</td>\n",
       "    </tr>\n",
       "    <tr>\n",
       "      <th>31</th>\n",
       "      <td>:</td>\n",
       "      <td>1</td>\n",
       "    </tr>\n",
       "    <tr>\n",
       "      <th>30</th>\n",
       "      <td>/.</td>\n",
       "      <td>1</td>\n",
       "    </tr>\n",
       "    <tr>\n",
       "      <th>3</th>\n",
       "      <td>',.</td>\n",
       "      <td>1</td>\n",
       "    </tr>\n",
       "    <tr>\n",
       "      <th>28</th>\n",
       "      <td>.....</td>\n",
       "      <td>1</td>\n",
       "    </tr>\n",
       "    <tr>\n",
       "      <th>7</th>\n",
       "      <td>(,)</td>\n",
       "      <td>1</td>\n",
       "    </tr>\n",
       "    <tr>\n",
       "      <th>26</th>\n",
       "      <td>..,</td>\n",
       "      <td>1</td>\n",
       "    </tr>\n",
       "    <tr>\n",
       "      <th>6</th>\n",
       "      <td>(),</td>\n",
       "      <td>1</td>\n",
       "    </tr>\n",
       "    <tr>\n",
       "      <th>23</th>\n",
       "      <td>.'.</td>\n",
       "      <td>1</td>\n",
       "    </tr>\n",
       "    <tr>\n",
       "      <th>8</th>\n",
       "      <td>(.)</td>\n",
       "      <td>1</td>\n",
       "    </tr>\n",
       "    <tr>\n",
       "      <th>9</th>\n",
       "      <td>)</td>\n",
       "      <td>1</td>\n",
       "    </tr>\n",
       "    <tr>\n",
       "      <th>0</th>\n",
       "      <td>#</td>\n",
       "      <td>1</td>\n",
       "    </tr>\n",
       "  </tbody>\n",
       "</table>\n",
       "</div>"
      ],
      "text/plain": [
       "   SpecialChar  City\n",
       "21           .  5802\n",
       "16           -  1516\n",
       "10           ,   680\n",
       "2            '   428\n",
       "25          ..    80\n",
       "18          --    41\n",
       "5           ()    32\n",
       "29           /    25\n",
       "1            &    21\n",
       "22          .'    14\n",
       "24          .,    13\n",
       "14          ,.    11\n",
       "12          ,,    10\n",
       "27         ...     7\n",
       "19         ---     7\n",
       "32           ;     6\n",
       "15         ,..     6\n",
       "20          -.     3\n",
       "13          ,-     2\n",
       "11         ,()     2\n",
       "17          -,     2\n",
       "4           '.     1\n",
       "31           :     1\n",
       "30          /.     1\n",
       "3          ',.     1\n",
       "28       .....     1\n",
       "7          (,)     1\n",
       "26         ..,     1\n",
       "6          (),     1\n",
       "23         .'.     1\n",
       "8          (.)     1\n",
       "9            )     1\n",
       "0            #     1"
      ]
     },
     "execution_count": 4,
     "metadata": {},
     "output_type": "execute_result"
    }
   ],
   "source": [
    "special_char = data.groupby('SpecialChar').agg({'City': 'count'}).reset_index().sort_values(by='City', ascending=False)\n",
    "special_char"
   ]
  },
  {
   "cell_type": "markdown",
   "metadata": {},
   "source": [
    "* Get the list of special characters"
   ]
  },
  {
   "cell_type": "code",
   "execution_count": 5,
   "metadata": {},
   "outputs": [
    {
     "name": "stdout",
     "output_type": "stream",
     "text": [
      "Number of special characters: 11\n"
     ]
    },
    {
     "data": {
      "text/plain": [
       "\"/#.(;':&)-,\""
      ]
     },
     "execution_count": 5,
     "metadata": {},
     "output_type": "execute_result"
    }
   ],
   "source": [
    "special_chars = special_char['SpecialChar'].str.cat()\n",
    "special_chars_list = ''.join(set(special_chars))\n",
    "print('Number of special characters: {}'.format(len(special_chars_list)))\n",
    "special_chars_list"
   ]
  },
  {
   "cell_type": "code",
   "execution_count": 6,
   "metadata": {},
   "outputs": [],
   "source": [
    "# Function to check text in original City field and print details\n",
    "def check_city(data, text, rows_to_display=5):\n",
    "    test_df = data[data['Original_City'].str.contains(text, regex=False, na=False)]\n",
    "    print('\\nCity having {}:\\n{}'.format(text, test_df.head(rows_to_display)))\n",
    "\n",
    "# Function to clean special character in City and print details\n",
    "def clean_city(data, old_value, new_value, regexFlag):\n",
    "    if regexFlag:\n",
    "        data['City'] = data['City'].replace(to_replace=old_value, regex=regexFlag, value=new_value)\n",
    "    else:\n",
    "        data['City'] = data['City'].str.replace(old_value,new_value, regex=regexFlag)"
   ]
  },
  {
   "cell_type": "markdown",
   "metadata": {},
   "source": [
    "* Copy City to a new column 'Original_City'"
   ]
  },
  {
   "cell_type": "code",
   "execution_count": 7,
   "metadata": {},
   "outputs": [
    {
     "name": "stderr",
     "output_type": "stream",
     "text": [
      "C:\\Users\\denni\\AppData\\Local\\Temp\\ipykernel_21856\\1347244094.py:1: SettingWithCopyWarning: \n",
      "A value is trying to be set on a copy of a slice from a DataFrame.\n",
      "Try using .loc[row_indexer,col_indexer] = value instead\n",
      "\n",
      "See the caveats in the documentation: https://pandas.pydata.org/pandas-docs/stable/user_guide/indexing.html#returning-a-view-versus-a-copy\n",
      "  data['Original_City'] = data['City']\n"
     ]
    }
   ],
   "source": [
    "data['Original_City'] = data['City']"
   ]
  },
  {
   "cell_type": "markdown",
   "metadata": {},
   "source": [
    "### Clean and Transform special character\n",
    "\n",
    "1. Check [.]\n",
    "    * Check City with [.]"
   ]
  },
  {
   "cell_type": "code",
   "execution_count": 8,
   "metadata": {},
   "outputs": [
    {
     "name": "stdout",
     "output_type": "stream",
     "text": [
      "Special Character: .\n",
      "\n",
      "City having .:\n",
      "        Provider  Individual        Zip          City State Country SpecialChar Original_City\n",
      "1585  1003015975        True  631416340     ST. LOUIS    MO      US           .     ST. LOUIS\n",
      "3342  1003033572        True  631310000     ST. LOUIS    MO      US           .     ST. LOUIS\n",
      "3808  1003038241       False  551040000      ST. PAUL    MN      US           .      ST. PAUL\n",
      "4313  1003043290       False  601180000     W. DUNDEE    IL      US           .     W. DUNDEE\n",
      "5474  1003054925        True  422230000  FT. CAMPBELL    KY      US           .  FT. CAMPBELL\n",
      "\n",
      "City having LOUIS:\n",
      "       Provider  Individual        Zip         City State Country SpecialChar Original_City\n",
      "80   1003000902        True  402121033   LOUISVILLE    KY      US        None    LOUISVILLE\n",
      "140  1003001504        True  631390000  SAINT LOUIS    MO      US        None   SAINT LOUIS\n",
      "325  1003003351       False  402455291   LOUISVILLE    KY      US        None    LOUISVILLE\n",
      "337  1003003476       False  631195109  SAINT LOUIS    MO      US        None   SAINT LOUIS\n",
      "445  1003004557        True  631418704  SAINT LOUIS    MO      US        None   SAINT LOUIS\n",
      "\n",
      "City having DUNDEE:\n",
      "         Provider  Individual        Zip         City State Country SpecialChar Original_City\n",
      "4313   1003043290       False  601180000    W. DUNDEE    IL      US           .     W. DUNDEE\n",
      "10978  1003110073        True  601187300  WEST DUNDEE    IL      US        None   WEST DUNDEE\n",
      "36266  1003365412       False  601181642  EAST DUNDEE    IL      US        None   EAST DUNDEE\n",
      "42034  1003423229        True  601189531  WEST DUNDEE    IL      US        None   WEST DUNDEE\n",
      "70081  1003920307        True  338384276       DUNDEE    FL      US        None        DUNDEE\n"
     ]
    }
   ],
   "source": [
    "# Adjust display width\n",
    "pd.set_option('display.width', 1000)\n",
    "\n",
    "# Investigate special character format\n",
    "special_char = '.'\n",
    "print('Special Character:', special_char)\n",
    "\n",
    "check_city(data, special_char)\n",
    "\n",
    "check_city(data, 'LOUIS', 5)\n",
    "\n",
    "check_city(data, 'DUNDEE', 5)"
   ]
  },
  {
   "cell_type": "markdown",
   "metadata": {},
   "source": [
    "1. Clean [.]\n",
    "    * Removing [.] by replacing empty character -> []\n",
    "    * 'ST ' -> 'SAINT '\n",
    "    * 'FT CAMPBELL' -> 'FORT CAMPBELL'\n",
    "    * 'W DUNDEE' -> 'WEST DUNDEE'\n",
    "    * 'E DUNDEE' -> 'EAST DUNDEE'\n",
    "    * 'N DUNDEE' -> 'NORTH DUNDEE'\n",
    "    * 'S DUNDEE' -> 'SOUTH DUNDEE'"
   ]
  },
  {
   "cell_type": "code",
   "execution_count": 9,
   "metadata": {},
   "outputs": [
    {
     "name": "stderr",
     "output_type": "stream",
     "text": [
      "C:\\Users\\denni\\AppData\\Local\\Temp\\ipykernel_21856\\69216771.py:11: SettingWithCopyWarning: \n",
      "A value is trying to be set on a copy of a slice from a DataFrame.\n",
      "Try using .loc[row_indexer,col_indexer] = value instead\n",
      "\n",
      "See the caveats in the documentation: https://pandas.pydata.org/pandas-docs/stable/user_guide/indexing.html#returning-a-view-versus-a-copy\n",
      "  data['City'] = data['City'].str.replace(old_value,new_value, regex=regexFlag)\n",
      "C:\\Users\\denni\\AppData\\Local\\Temp\\ipykernel_21856\\69216771.py:9: SettingWithCopyWarning: \n",
      "A value is trying to be set on a copy of a slice from a DataFrame.\n",
      "Try using .loc[row_indexer,col_indexer] = value instead\n",
      "\n",
      "See the caveats in the documentation: https://pandas.pydata.org/pandas-docs/stable/user_guide/indexing.html#returning-a-view-versus-a-copy\n",
      "  data['City'] = data['City'].replace(to_replace=old_value, regex=regexFlag, value=new_value)\n"
     ]
    },
    {
     "name": "stdout",
     "output_type": "stream",
     "text": [
      "Check .\n",
      "\n",
      "City having .:\n",
      "        Provider  Individual        Zip           City State Country SpecialChar Original_City\n",
      "1585  1003015975        True  631416340    SAINT LOUIS    MO      US           .     ST. LOUIS\n",
      "3342  1003033572        True  631310000    SAINT LOUIS    MO      US           .     ST. LOUIS\n",
      "3808  1003038241       False  551040000     SAINT PAUL    MN      US           .      ST. PAUL\n",
      "4313  1003043290       False  601180000    WEST DUNDEE    IL      US           .     W. DUNDEE\n",
      "5474  1003054925        True  422230000  FORT CAMPBELL    KY      US           .  FT. CAMPBELL\n"
     ]
    }
   ],
   "source": [
    "special_char = '.'\n",
    "clean_city(data, special_char, '', False)\n",
    "\n",
    "# ST  -> SAINT \n",
    "clean_city(data, '\\s*ST\\s+', 'SAINT ', True)\n",
    "\n",
    "# FT CAMPBELL -> FORT CAMPBELL\n",
    "clean_city(data, '\\s*FT\\s+CAMPBELL', 'FORT CAMPBELL', True)\n",
    "\n",
    "# W DUNDEE -> WEST DUNDEE\n",
    "clean_city(data, '\\s*W\\s+DUNDEE', 'WEST DUNDEE', True)\n",
    "clean_city(data, '\\s*E\\s+DUNDEE', 'EAST DUNDEE', True)\n",
    "clean_city(data, '\\s*N\\s+DUNDEE', 'NORTH DUNDEE', True)\n",
    "clean_city(data, '\\s*S\\s+DUNDEE', 'SOUTH DUNDEE', True)\n",
    "\n",
    "print('Check .')\n",
    "check_city(data, special_char)"
   ]
  },
  {
   "cell_type": "markdown",
   "metadata": {},
   "source": [
    "2. Check [-]\n",
    "    * Check City with [-]"
   ]
  },
  {
   "cell_type": "code",
   "execution_count": 10,
   "metadata": {},
   "outputs": [
    {
     "name": "stdout",
     "output_type": "stream",
     "text": [
      "Special Character: -\n",
      "\n",
      "City having -:\n",
      "         Provider  Individual        Zip                       City State Country SpecialChar              Original_City\n",
      "3827   1003038431        True  857074405          DAVIS-MONTHAN AFB    AZ      US           -          DAVIS-MONTHAN AFB\n",
      "10126  1003101551        True  236652040  JOINT BASE LANGLEY-EUSTIS    VA      US           -  JOINT BASE LANGLEY-EUSTIS\n",
      "14162  1003142076        True  271012933              WINSTON-SALEM    NC      US           -              WINSTON-SALEM\n",
      "21332  1003213919        True  187020000               WILKES-BARRE    PA      US           -               WILKES-BARRE\n",
      "26374  1003264508        True  782365313              JBSA-LACKLAND    TX      US           -              JBSA-LACKLAND\n",
      "\n",
      "City having MONTHAN:\n",
      "          Provider  Individual        Zip               City State Country SpecialChar      Original_City\n",
      "3827    1003038431        True  857074405  DAVIS-MONTHAN AFB    AZ      US           -  DAVIS-MONTHAN AFB\n",
      "94789   1013168418        True  857074402  DAVIS MONTHAN AFB    AZ      US        None  DAVIS MONTHAN AFB\n",
      "443905  1053765370       False  857073004  DAVIS MONTHAN AFB    AZ      US        None  DAVIS MONTHAN AFB\n",
      "552692  1073075099        True  857070000  DAVIS-MONTHAN AFB    AZ      US           -  DAVIS-MONTHAN AFB\n",
      "558499  1073133393        True  857070000  DAVIS-MONTHAN AFB    AZ      US           -  DAVIS-MONTHAN AFB\n"
     ]
    }
   ],
   "source": [
    "# Investigate special character format\n",
    "special_char = '-'\n",
    "print('Special Character:', special_char)\n",
    "\n",
    "check_city(data, special_char)\n",
    "\n",
    "check_city(data, 'MONTHAN')"
   ]
  },
  {
   "cell_type": "markdown",
   "metadata": {},
   "source": [
    "2. Clean [-]\n",
    "    * Remove [-] by replacing space character -> [ ]"
   ]
  },
  {
   "cell_type": "code",
   "execution_count": 11,
   "metadata": {},
   "outputs": [
    {
     "name": "stderr",
     "output_type": "stream",
     "text": [
      "C:\\Users\\denni\\AppData\\Local\\Temp\\ipykernel_21856\\69216771.py:11: SettingWithCopyWarning: \n",
      "A value is trying to be set on a copy of a slice from a DataFrame.\n",
      "Try using .loc[row_indexer,col_indexer] = value instead\n",
      "\n",
      "See the caveats in the documentation: https://pandas.pydata.org/pandas-docs/stable/user_guide/indexing.html#returning-a-view-versus-a-copy\n",
      "  data['City'] = data['City'].str.replace(old_value,new_value, regex=regexFlag)\n"
     ]
    },
    {
     "name": "stdout",
     "output_type": "stream",
     "text": [
      "\n",
      "City having -:\n",
      "         Provider  Individual        Zip                       City State Country SpecialChar              Original_City\n",
      "3827   1003038431        True  857074405          DAVIS MONTHAN AFB    AZ      US           -          DAVIS-MONTHAN AFB\n",
      "10126  1003101551        True  236652040  JOINT BASE LANGLEY EUSTIS    VA      US           -  JOINT BASE LANGLEY-EUSTIS\n",
      "14162  1003142076        True  271012933              WINSTON SALEM    NC      US           -              WINSTON-SALEM\n",
      "21332  1003213919        True  187020000               WILKES BARRE    PA      US           -               WILKES-BARRE\n",
      "26374  1003264508        True  782365313              JBSA LACKLAND    TX      US           -              JBSA-LACKLAND\n",
      "\n",
      "City having MONTHAN:\n",
      "          Provider  Individual        Zip               City State Country SpecialChar      Original_City\n",
      "3827    1003038431        True  857074405  DAVIS MONTHAN AFB    AZ      US           -  DAVIS-MONTHAN AFB\n",
      "94789   1013168418        True  857074402  DAVIS MONTHAN AFB    AZ      US        None  DAVIS MONTHAN AFB\n",
      "443905  1053765370       False  857073004  DAVIS MONTHAN AFB    AZ      US        None  DAVIS MONTHAN AFB\n",
      "552692  1073075099        True  857070000  DAVIS MONTHAN AFB    AZ      US           -  DAVIS-MONTHAN AFB\n",
      "558499  1073133393        True  857070000  DAVIS MONTHAN AFB    AZ      US           -  DAVIS-MONTHAN AFB\n"
     ]
    }
   ],
   "source": [
    "special_char = '-'\n",
    "clean_city(data, special_char, ' ', False)\n",
    "\n",
    "check_city(data, special_char)\n",
    "\n",
    "check_city(data, 'MONTHAN')"
   ]
  },
  {
   "cell_type": "markdown",
   "metadata": {},
   "source": [
    "3. Check [()]\n",
    "    * Check City with [()]"
   ]
  },
  {
   "cell_type": "code",
   "execution_count": 12,
   "metadata": {},
   "outputs": [
    {
     "name": "stdout",
     "output_type": "stream",
     "text": [
      "Special Character: (\n",
      "\n",
      "City having (:\n",
      "           Provider  Individual        Zip                      City State Country SpecialChar             Original_City\n",
      "201220   1023455094        True  190020000     AMBLER (LOWER GWYNED)    PA      US          ()     AMBLER (LOWER GWYNED)\n",
      "547603   1073023347        True  180460000  EASAINT TEXAS (MACUNGIE)    PA      US          ()     EAST TEXAS (MACUNGIE)\n",
      "597213   1073737458       False  328190000     ORLANDO (TURKEY LAKE)    FL      US          ()     ORLANDO (TURKEY LAKE)\n",
      "774623   1093951956       False  321590000  LADY LAKE (THE VILLAGES)    FL      US          ()  LADY LAKE (THE VILLAGES)\n",
      "1276351  1164514873       False  787530000               AUSTIN (NW)    TX      US          ()               AUSTIN (NW)\n",
      "\n",
      "City having AMBLER:\n",
      "          Provider  Individual        Zip    City State Country SpecialChar Original_City\n",
      "11693   1003117342       False  190024425  AMBLER    PA      US        None        AMBLER\n",
      "105851  1013279389       False  190020000  AMBLER    PA      US        None        AMBLER\n",
      "106554  1013286418       False  190022823  AMBLER    PA      US        None        AMBLER\n",
      "106707  1013287945        True  190025818  AMBLER    PA      US        None        AMBLER\n",
      "123825  1013461391       False  190023154  AMBLER    PA      US        None        AMBLER\n",
      "Special Character: )\n"
     ]
    }
   ],
   "source": [
    "# Investigate special character format\n",
    "special_char = '('\n",
    "print('Special Character:', special_char)\n",
    "\n",
    "check_city(data, '(')\n",
    "\n",
    "check_city(data, 'AMBLER')\n",
    "\n",
    "# Investigate special character format\n",
    "special_char = ')'\n",
    "print('Special Character:', special_char)"
   ]
  },
  {
   "cell_type": "markdown",
   "metadata": {},
   "source": [
    "3. Clean [()]\n",
    "    * Remove [()] including the text within the parenthesis"
   ]
  },
  {
   "cell_type": "code",
   "execution_count": 13,
   "metadata": {},
   "outputs": [
    {
     "name": "stderr",
     "output_type": "stream",
     "text": [
      "C:\\Users\\denni\\AppData\\Local\\Temp\\ipykernel_21856\\69216771.py:9: SettingWithCopyWarning: \n",
      "A value is trying to be set on a copy of a slice from a DataFrame.\n",
      "Try using .loc[row_indexer,col_indexer] = value instead\n",
      "\n",
      "See the caveats in the documentation: https://pandas.pydata.org/pandas-docs/stable/user_guide/indexing.html#returning-a-view-versus-a-copy\n",
      "  data['City'] = data['City'].replace(to_replace=old_value, regex=regexFlag, value=new_value)\n",
      "C:\\Users\\denni\\AppData\\Local\\Temp\\ipykernel_21856\\69216771.py:11: SettingWithCopyWarning: \n",
      "A value is trying to be set on a copy of a slice from a DataFrame.\n",
      "Try using .loc[row_indexer,col_indexer] = value instead\n",
      "\n",
      "See the caveats in the documentation: https://pandas.pydata.org/pandas-docs/stable/user_guide/indexing.html#returning-a-view-versus-a-copy\n",
      "  data['City'] = data['City'].str.replace(old_value,new_value, regex=regexFlag)\n"
     ]
    },
    {
     "name": "stdout",
     "output_type": "stream",
     "text": [
      "\n",
      "City having ):\n",
      "           Provider  Individual        Zip           City State Country SpecialChar             Original_City\n",
      "201220   1023455094        True  190020000         AMBLER    PA      US          ()     AMBLER (LOWER GWYNED)\n",
      "547603   1073023347        True  180460000  EASAINT TEXAS    PA      US          ()     EAST TEXAS (MACUNGIE)\n",
      "597213   1073737458       False  328190000        ORLANDO    FL      US          ()     ORLANDO (TURKEY LAKE)\n",
      "774623   1093951956       False  321590000      LADY LAKE    FL      US          ()  LADY LAKE (THE VILLAGES)\n",
      "1276351  1164514873       False  787530000         AUSTIN    TX      US          ()               AUSTIN (NW)\n"
     ]
    }
   ],
   "source": [
    "# Remove () including anything inside the parenthesis\n",
    "clean_city(data, '\\s*\\(.+\\)', '', True)\n",
    "\n",
    "# Delete ( special character\n",
    "special_char = '('\n",
    "clean_city(data, special_char, '', False)\n",
    "\n",
    "# Delete ) special character\n",
    "special_char = ')'\n",
    "clean_city(data, special_char, '', False)\n",
    "\n",
    "check_city(data, special_char)"
   ]
  },
  {
   "cell_type": "markdown",
   "metadata": {},
   "source": [
    "4. Check [;]\n",
    "    * Check City with [;]"
   ]
  },
  {
   "cell_type": "code",
   "execution_count": 14,
   "metadata": {},
   "outputs": [
    {
     "name": "stdout",
     "output_type": "stream",
     "text": [
      "Special Character: ;\n",
      "\n",
      "City having ;:\n",
      "           Provider  Individual        Zip                 City State Country SpecialChar     Original_City\n",
      "175626   1023197456        True  142630000              BUFFA;P    NY      US           ;           BUFFA;P\n",
      "1565218  1205063856       False  300220000           A;PHARETTA    GA      US           ;        A;PHARETTA\n",
      "2287088  1295270676        True  949010000         ; SAN RAFAEL    CA      US           ;      ; SAN RAFAEL\n",
      "3353173  1437112166        True  483232184  WESAINT BLOOMFIEL;D    MI      US           ;  WEST BLOOMFIEL;D\n",
      "3468088  1447583109        True  960800000            RED B;UFF    CA      US           ;         RED B;UFF\n",
      "5166101  1669427183        True  276148292              RA;EIGH    NC      US           ;           RA;EIGH\n"
     ]
    }
   ],
   "source": [
    "# Investigate special character format\n",
    "special_char = ';'\n",
    "print('Special Character:', special_char)\n",
    "\n",
    "check_city(data, special_char, 10)"
   ]
  },
  {
   "cell_type": "markdown",
   "metadata": {},
   "source": [
    "4. Clean [;]\n",
    "    * Remove [;] -> []"
   ]
  },
  {
   "cell_type": "code",
   "execution_count": 15,
   "metadata": {},
   "outputs": [
    {
     "name": "stderr",
     "output_type": "stream",
     "text": [
      "C:\\Users\\denni\\AppData\\Local\\Temp\\ipykernel_21856\\69216771.py:11: SettingWithCopyWarning: \n",
      "A value is trying to be set on a copy of a slice from a DataFrame.\n",
      "Try using .loc[row_indexer,col_indexer] = value instead\n",
      "\n",
      "See the caveats in the documentation: https://pandas.pydata.org/pandas-docs/stable/user_guide/indexing.html#returning-a-view-versus-a-copy\n",
      "  data['City'] = data['City'].str.replace(old_value,new_value, regex=regexFlag)\n"
     ]
    },
    {
     "name": "stdout",
     "output_type": "stream",
     "text": [
      "\n",
      "City having ;:\n",
      "           Provider  Individual        Zip                City State Country SpecialChar     Original_City\n",
      "175626   1023197456        True  142630000              BUFFAP    NY      US           ;           BUFFA;P\n",
      "1565218  1205063856       False  300220000           APHARETTA    GA      US           ;        A;PHARETTA\n",
      "2287088  1295270676        True  949010000          SAN RAFAEL    CA      US           ;      ; SAN RAFAEL\n",
      "3353173  1437112166        True  483232184  WESAINT BLOOMFIELD    MI      US           ;  WEST BLOOMFIEL;D\n",
      "3468088  1447583109        True  960800000            RED BUFF    CA      US           ;         RED B;UFF\n"
     ]
    }
   ],
   "source": [
    "# Delete ; special character\n",
    "special_char = ';'\n",
    "clean_city(data, special_char, '', False)\n",
    "\n",
    "check_city(data, special_char)"
   ]
  },
  {
   "cell_type": "markdown",
   "metadata": {},
   "source": [
    "5. Check [&]\n",
    "    * Check City with [&]"
   ]
  },
  {
   "cell_type": "code",
   "execution_count": 16,
   "metadata": {},
   "outputs": [
    {
     "name": "stdout",
     "output_type": "stream",
     "text": [
      "Special Character: &\n",
      "\n",
      "City having &:\n",
      "           Provider  Individual        Zip            City State Country SpecialChar   Original_City\n",
      "311834   1043206584       False  630175812  TOWN & COUNTRY    MO      US           &  TOWN & COUNTRY\n",
      "370740   1043799844        True  631311640  TOWN & COUNTRY    MO      US           &  TOWN & COUNTRY\n",
      "1331535  1174069900       False  630170000  TOWN & COUNTRY    MO      US           &  TOWN & COUNTRY\n",
      "1360636  1174577803       False  630170000  TOWN & COUNTRY    MO      US           &  TOWN & COUNTRY\n",
      "1565775  1205069432       False  631310000  TOWN & COUNTRY    MO      US           &  TOWN & COUNTRY\n",
      "\n",
      "City having TOWN AND COUNTRY:\n",
      "          Provider  Individual        Zip              City State Country SpecialChar     Original_City\n",
      "136155  1013585033        True  630175734  TOWN AND COUNTRY    MO      US        None  TOWN AND COUNTRY\n",
      "144108  1013669944       False  630178400  TOWN AND COUNTRY    MO      US        None  TOWN AND COUNTRY\n",
      "249602  1033256797        True  630175735  TOWN AND COUNTRY    MO      US        None  TOWN AND COUNTRY\n",
      "298136  1033754023       False  630173106  TOWN AND COUNTRY    MO      US        None  TOWN AND COUNTRY\n",
      "306269  1033840749        True  630178209  TOWN AND COUNTRY    MO      US        None  TOWN AND COUNTRY\n"
     ]
    }
   ],
   "source": [
    "# Investigate special character format\n",
    "special_char = '&'\n",
    "print('Special Character:', special_char)\n",
    "\n",
    "check_city(data, special_char)\n",
    "\n",
    "check_city(data, 'TOWN AND COUNTRY')"
   ]
  },
  {
   "cell_type": "markdown",
   "metadata": {},
   "source": [
    "5. Clean [&]\n",
    "    * Replace [&] -> 'AND'"
   ]
  },
  {
   "cell_type": "code",
   "execution_count": 17,
   "metadata": {},
   "outputs": [
    {
     "name": "stderr",
     "output_type": "stream",
     "text": [
      "C:\\Users\\denni\\AppData\\Local\\Temp\\ipykernel_21856\\69216771.py:11: SettingWithCopyWarning: \n",
      "A value is trying to be set on a copy of a slice from a DataFrame.\n",
      "Try using .loc[row_indexer,col_indexer] = value instead\n",
      "\n",
      "See the caveats in the documentation: https://pandas.pydata.org/pandas-docs/stable/user_guide/indexing.html#returning-a-view-versus-a-copy\n",
      "  data['City'] = data['City'].str.replace(old_value,new_value, regex=regexFlag)\n"
     ]
    },
    {
     "name": "stdout",
     "output_type": "stream",
     "text": [
      "\n",
      "City having &:\n",
      "           Provider  Individual        Zip              City State Country SpecialChar   Original_City\n",
      "311834   1043206584       False  630175812  TOWN AND COUNTRY    MO      US           &  TOWN & COUNTRY\n",
      "370740   1043799844        True  631311640  TOWN AND COUNTRY    MO      US           &  TOWN & COUNTRY\n",
      "1331535  1174069900       False  630170000  TOWN AND COUNTRY    MO      US           &  TOWN & COUNTRY\n",
      "1360636  1174577803       False  630170000  TOWN AND COUNTRY    MO      US           &  TOWN & COUNTRY\n",
      "1565775  1205069432       False  631310000  TOWN AND COUNTRY    MO      US           &  TOWN & COUNTRY\n",
      "1850289  1235678186        True  631310000  TOWN AND COUNTRY    MO      US           &  TOWN & COUNTRY\n",
      "2507315  1326130345       False  630170000  TOWN AND COUNTRY    MO      US           &  TOWN & COUNTRY\n",
      "2753332  1356465587        True  631310000  TOWN AND COUNTRY    MO      US           &  TOWN & COUNTRY\n",
      "2761178  1356544209        True  630170000  TOWN AND COUNTRY    MO      US           &  TOWN & COUNTRY\n",
      "3399174  1437574183       False  630170000  TOWN AND COUNTRY    MO      US           &  TOWN & COUNTRY\n"
     ]
    }
   ],
   "source": [
    "# Replace & with AND\n",
    "special_char = '&'\n",
    "clean_city(data, special_char, 'AND', False)\n",
    "\n",
    "check_city(data, special_char, 10)"
   ]
  },
  {
   "cell_type": "markdown",
   "metadata": {},
   "source": [
    "6. Check [:]\n",
    "    * Check City with [:]"
   ]
  },
  {
   "cell_type": "code",
   "execution_count": 18,
   "metadata": {},
   "outputs": [
    {
     "name": "stdout",
     "output_type": "stream",
     "text": [
      "Special Character: :\n",
      "\n",
      "City having ::\n",
      "           Provider  Individual        Zip          City State Country SpecialChar Original_City\n",
      "6459163  1821689753        True  444710000  1: STRUTHERS    OH      US           :  1: STRUTHERS\n"
     ]
    }
   ],
   "source": [
    "# Investigate special character format\n",
    "special_char = ':'\n",
    "print('Special Character:', special_char)\n",
    "\n",
    "check_city(data, special_char)"
   ]
  },
  {
   "cell_type": "markdown",
   "metadata": {},
   "source": [
    "6. Clean [:]\n",
    "    * Since we have only one record, we can decide that [:] can be removed including the text before it"
   ]
  },
  {
   "cell_type": "code",
   "execution_count": 19,
   "metadata": {},
   "outputs": [
    {
     "name": "stderr",
     "output_type": "stream",
     "text": [
      "C:\\Users\\denni\\AppData\\Local\\Temp\\ipykernel_21856\\69216771.py:9: SettingWithCopyWarning: \n",
      "A value is trying to be set on a copy of a slice from a DataFrame.\n",
      "Try using .loc[row_indexer,col_indexer] = value instead\n",
      "\n",
      "See the caveats in the documentation: https://pandas.pydata.org/pandas-docs/stable/user_guide/indexing.html#returning-a-view-versus-a-copy\n",
      "  data['City'] = data['City'].replace(to_replace=old_value, regex=regexFlag, value=new_value)\n"
     ]
    },
    {
     "name": "stdout",
     "output_type": "stream",
     "text": [
      "\n",
      "City having ::\n",
      "           Provider  Individual        Zip       City State Country SpecialChar Original_City\n",
      "6459163  1821689753        True  444710000  STRUTHERS    OH      US           :  1: STRUTHERS\n"
     ]
    }
   ],
   "source": [
    "# Remove : including anything before the colon\n",
    "clean_city(data, '.+:\\s*', '', True)\n",
    "\n",
    "check_city(data, special_char)"
   ]
  },
  {
   "cell_type": "markdown",
   "metadata": {},
   "source": [
    "7. Check [/]\n",
    "    * Check City with [/]"
   ]
  },
  {
   "cell_type": "code",
   "execution_count": 20,
   "metadata": {},
   "outputs": [
    {
     "name": "stdout",
     "output_type": "stream",
     "text": [
      "Special Character: /\n",
      "\n",
      "City having /:\n",
      "           Provider  Individual        Zip                    City State Country SpecialChar           Original_City\n",
      "312389   1043212186        True  973940000               /WALDPORT    OR      US           /               /WALDPORT\n",
      "531440   1063860211        True  968535399        JBPHH/HICKAM AFB    HI      US           /        JBPHH/HICKAM AFB\n",
      "934111   1114986932       False  761270000  NAVAL AIR STATION/ JRB    TX      US           /  NAVAL AIR STATION/ JRB\n",
      "1016357  1134129661        True  761271133  NAVAL AIR STATION/ JRB    TX      US           /  NAVAL AIR STATION/ JRB\n",
      "1385336  1174825582        True  174030000   LEADER HEIGHTS / YORK    PA      US           /   LEADER HEIGHTS / YORK\n",
      "1441107  1184600744        True  761271133  NAVAL AIR STATION/ JRB    TX      US           /  NAVAL AIR STATION/ JRB\n",
      "1484355  1194035345        True  115800000        N/ VALLEY STREAM    NY      US          /.       N/. VALLEY STREAM\n",
      "1614465  1205574639        True  112030000       NEW YORK/BROOKLYN    NY      US           /       NEW YORK/BROOKLYN\n",
      "2207086  1285251538        True  112159008       NEW YORK/BROOKLYN    NY      US           /       NEW YORK/BROOKLYN\n",
      "2256151  1285959544        True  113582942     FLUSHING / MELVILLE    NY      US           /     FLUSHING / MELVILLE\n"
     ]
    }
   ],
   "source": [
    "# Investigate special character format\n",
    "special_char = '/'\n",
    "print('Special Character:', special_char)\n",
    "\n",
    "check_city(data, special_char, 10)"
   ]
  },
  {
   "cell_type": "markdown",
   "metadata": {},
   "source": [
    "7. Clean [/]\n",
    "\n",
    "From the data, [/] seems was used as delimeter for multiple cities.\n",
    "\n",
    "* Clean spaces before and after / to eliminate unwanted space to the individual City when we split the City by /.\n",
    "* Clean [/] at the beginning of City\n",
    "* Clean [/] at the end of City\n",
    "* Get the first item of split cities \n",
    "    From our SMS Prof Aaron, usually the major city is stated in the first City."
   ]
  },
  {
   "cell_type": "code",
   "execution_count": 21,
   "metadata": {},
   "outputs": [
    {
     "name": "stderr",
     "output_type": "stream",
     "text": [
      "C:\\Users\\denni\\AppData\\Local\\Temp\\ipykernel_21856\\69216771.py:9: SettingWithCopyWarning: \n",
      "A value is trying to be set on a copy of a slice from a DataFrame.\n",
      "Try using .loc[row_indexer,col_indexer] = value instead\n",
      "\n",
      "See the caveats in the documentation: https://pandas.pydata.org/pandas-docs/stable/user_guide/indexing.html#returning-a-view-versus-a-copy\n",
      "  data['City'] = data['City'].replace(to_replace=old_value, regex=regexFlag, value=new_value)\n",
      "C:\\Users\\denni\\AppData\\Local\\Temp\\ipykernel_21856\\3408982005.py:11: SettingWithCopyWarning: \n",
      "A value is trying to be set on a copy of a slice from a DataFrame.\n",
      "Try using .loc[row_indexer,col_indexer] = value instead\n",
      "\n",
      "See the caveats in the documentation: https://pandas.pydata.org/pandas-docs/stable/user_guide/indexing.html#returning-a-view-versus-a-copy\n",
      "  data['City'] = data['City'].str.split('/').str[0]\n"
     ]
    },
    {
     "name": "stdout",
     "output_type": "stream",
     "text": [
      "\n",
      "City having /:\n",
      "           Provider  Individual        Zip               City State Country SpecialChar           Original_City\n",
      "312389   1043212186        True  973940000           WALDPORT    OR      US           /               /WALDPORT\n",
      "531440   1063860211        True  968535399              JBPHH    HI      US           /        JBPHH/HICKAM AFB\n",
      "934111   1114986932       False  761270000  NAVAL AIR STATION    TX      US           /  NAVAL AIR STATION/ JRB\n",
      "1016357  1134129661        True  761271133  NAVAL AIR STATION    TX      US           /  NAVAL AIR STATION/ JRB\n",
      "1385336  1174825582        True  174030000     LEADER HEIGHTS    PA      US           /   LEADER HEIGHTS / YORK\n"
     ]
    }
   ],
   "source": [
    "# Clean spaces around /\n",
    "special_char = '/'\n",
    "clean_city(data, '\\s+/', '/', True)\n",
    "clean_city(data, '/\\s+', '/', True)\n",
    "# Delete / at the beginning of city\n",
    "clean_city(data, '^\\s*/', '', True)\n",
    "# Delete / at the end of city\n",
    "clean_city(data, '/\\s*$', '', True)\n",
    "\n",
    "# Get first item from multiple cities\n",
    "data['City'] = data['City'].str.split('/').str[0]\n",
    "\n",
    "check_city(data, special_char)"
   ]
  },
  {
   "cell_type": "markdown",
   "metadata": {},
   "source": [
    "8. Check [,]\n",
    "    * Check City with [,]"
   ]
  },
  {
   "cell_type": "code",
   "execution_count": 22,
   "metadata": {},
   "outputs": [
    {
     "name": "stdout",
     "output_type": "stream",
     "text": [
      "\n",
      "City having ,:\n",
      "         Provider  Individual        Zip                City State Country SpecialChar       Original_City\n",
      "16736  1003167867        True  017026388         FRAMINGHAM,    MA      US           ,         FRAMINGHAM,\n",
      "22422  1003224924       False  334460000    DELRAY BEACH, FL    FL      US           ,    DELRAY BEACH, FL\n",
      "25018  1003250929        True  851320000           FLORENCE,    AZ      US           ,           FLORENCE,\n",
      "43388  1003436783        True  103050000  STATEN ISLAND, NYC    NY      US           ,  STATEN ISLAND, NYC\n",
      "57514  1003583667        True  067080000          WATERBURY,    CT      US           ,          WATERBURY,\n"
     ]
    }
   ],
   "source": [
    "# Investigate special character format\n",
    "special_char = ','\n",
    "check_city(data, special_char)"
   ]
  },
  {
   "cell_type": "markdown",
   "metadata": {},
   "source": [
    "8. The , as it was used as delimeter for complete address including the street.\n",
    "    * City sometimes appear before , like 'PLAINVILLE, CT 06062'\n",
    "    * But in some record, city appear after , like '150,BERGEN STREET,NEWARK'\n",
    "    * Clean spaces before and after , to eliminate unwanted space to the individual City when we split the City by ,.\n",
    "    * Clean [,] at the beginning of City\n",
    "    * Clean [,] at the end of City\n",
    "    * Get the first item of split Cities"
   ]
  },
  {
   "cell_type": "code",
   "execution_count": 23,
   "metadata": {},
   "outputs": [
    {
     "name": "stderr",
     "output_type": "stream",
     "text": [
      "C:\\Users\\denni\\AppData\\Local\\Temp\\ipykernel_21856\\69216771.py:9: SettingWithCopyWarning: \n",
      "A value is trying to be set on a copy of a slice from a DataFrame.\n",
      "Try using .loc[row_indexer,col_indexer] = value instead\n",
      "\n",
      "See the caveats in the documentation: https://pandas.pydata.org/pandas-docs/stable/user_guide/indexing.html#returning-a-view-versus-a-copy\n",
      "  data['City'] = data['City'].replace(to_replace=old_value, regex=regexFlag, value=new_value)\n"
     ]
    },
    {
     "name": "stdout",
     "output_type": "stream",
     "text": [
      "Special Character: ,\n"
     ]
    },
    {
     "name": "stderr",
     "output_type": "stream",
     "text": [
      "C:\\Users\\denni\\AppData\\Local\\Temp\\ipykernel_21856\\2935518989.py:10: SettingWithCopyWarning: \n",
      "A value is trying to be set on a copy of a slice from a DataFrame.\n",
      "Try using .loc[row_indexer,col_indexer] = value instead\n",
      "\n",
      "See the caveats in the documentation: https://pandas.pydata.org/pandas-docs/stable/user_guide/indexing.html#returning-a-view-versus-a-copy\n",
      "  data['City'] = data['City'].str.split(',').str[0]\n"
     ]
    },
    {
     "name": "stdout",
     "output_type": "stream",
     "text": [
      "\n",
      "City having ,:\n",
      "          Provider  Individual        Zip           City State Country SpecialChar             Original_City\n",
      "16736   1003167867        True  017026388     FRAMINGHAM    MA      US           ,               FRAMINGHAM,\n",
      "22422   1003224924       False  334460000   DELRAY BEACH    FL      US           ,          DELRAY BEACH, FL\n",
      "25018   1003250929        True  851320000       FLORENCE    AZ      US           ,                 FLORENCE,\n",
      "43388   1003436783        True  103050000  STATEN ISLAND    NY      US           ,        STATEN ISLAND, NYC\n",
      "57514   1003583667        True  067080000      WATERBURY    CT      US           ,                WATERBURY,\n",
      "58479   1003803347        True  303421736        ATLANTA    GA      US           ,                  ATLANTA,\n",
      "104920  1013270040        True  104570000          BRONX    NY      US           ,                    BRONX,\n",
      "115947  1013381524        True  060620000     PLAINVILLE    NY      US           ,      PLAINVILLE, CT 06062\n",
      "127562  1013498823        True  071030000            150    NJ      US          ,,  150,BERGEN STREET,NEWARK\n",
      "132726  1013550599       False  913030000    CANOGA PARK    CA      US           ,           CANOGA PARK, CA\n"
     ]
    }
   ],
   "source": [
    "# Clean space around ,\n",
    "clean_city(data, '\\s*,\\s*', ',', True)\n",
    "# Delete , at the beginning of city\n",
    "clean_city(data, '^\\s*,', '', True)\n",
    "# Delete , at the end of city\n",
    "clean_city(data, ',\\s*$', '', True)\n",
    "print('Special Character:', special_char)\n",
    "\n",
    "# Get first item from multiple cities\n",
    "data['City'] = data['City'].str.split(',').str[0]\n",
    "\n",
    "check_city(data, special_char, 10)"
   ]
  },
  {
   "cell_type": "markdown",
   "metadata": {},
   "source": [
    "9. Check [#]\n",
    "    * Check City with [#]"
   ]
  },
  {
   "cell_type": "code",
   "execution_count": 24,
   "metadata": {},
   "outputs": [
    {
     "name": "stdout",
     "output_type": "stream",
     "text": [
      "Special Character: #\n",
      "\n",
      "City having #:\n",
      "           Provider  Individual        Zip              City State Country SpecialChar     Original_City\n",
      "1055038  1134518798       False  325420000  EGLIN AFB FLD #3    FL      US           #  EGLIN AFB FLD #3\n"
     ]
    }
   ],
   "source": [
    "# Investigate special character format\n",
    "special_char = '#'\n",
    "print('Special Character:', special_char)\n",
    "\n",
    "check_city(data, special_char)"
   ]
  },
  {
   "cell_type": "markdown",
   "metadata": {},
   "source": [
    "9. Fix [#]\n",
    "    * Since we have only one record, we can decide that we can remove [#] including the text after it and the right city name for this is EGLIN AFB only"
   ]
  },
  {
   "cell_type": "code",
   "execution_count": 25,
   "metadata": {},
   "outputs": [
    {
     "name": "stderr",
     "output_type": "stream",
     "text": [
      "C:\\Users\\denni\\AppData\\Local\\Temp\\ipykernel_21856\\69216771.py:9: SettingWithCopyWarning: \n",
      "A value is trying to be set on a copy of a slice from a DataFrame.\n",
      "Try using .loc[row_indexer,col_indexer] = value instead\n",
      "\n",
      "See the caveats in the documentation: https://pandas.pydata.org/pandas-docs/stable/user_guide/indexing.html#returning-a-view-versus-a-copy\n",
      "  data['City'] = data['City'].replace(to_replace=old_value, regex=regexFlag, value=new_value)\n",
      "C:\\Users\\denni\\AppData\\Local\\Temp\\ipykernel_21856\\69216771.py:11: SettingWithCopyWarning: \n",
      "A value is trying to be set on a copy of a slice from a DataFrame.\n",
      "Try using .loc[row_indexer,col_indexer] = value instead\n",
      "\n",
      "See the caveats in the documentation: https://pandas.pydata.org/pandas-docs/stable/user_guide/indexing.html#returning-a-view-versus-a-copy\n",
      "  data['City'] = data['City'].str.replace(old_value,new_value, regex=regexFlag)\n"
     ]
    },
    {
     "name": "stdout",
     "output_type": "stream",
     "text": [
      "\n",
      "City having #:\n",
      "           Provider  Individual        Zip       City State Country SpecialChar     Original_City\n",
      "1055038  1134518798       False  325420000  EGLIN AFB    FL      US           #  EGLIN AFB FLD #3\n",
      "\n",
      "City having EGLIN:\n",
      "         Provider  Individual        Zip       City State Country SpecialChar Original_City\n",
      "22735  1003228057        True  325421302  EGLIN AFB    FL      US        None     EGLIN AFB\n",
      "63122  1003850496        True  325421302  EGLIN AFB    FL      US        None     EGLIN AFB\n",
      "79676  1013016773       False  325421302  EGLIN AFB    FL      US        None     EGLIN AFB\n",
      "86760  1013087873        True  325421302  EGLIN AFB    FL      US        None     EGLIN AFB\n",
      "87078  1013091073        True  325421282  EGLIN AFB    FL      US        None     EGLIN AFB\n"
     ]
    }
   ],
   "source": [
    "# Remove # including anything after the #\n",
    "clean_city(data, '\\s*#.*', '', True)\n",
    "clean_city(data, 'EGLIN AFB FLD', 'EGLIN AFB', False)\n",
    "\n",
    "check_city(data, special_char)\n",
    "\n",
    "check_city(data, 'EGLIN')"
   ]
  },
  {
   "cell_type": "markdown",
   "metadata": {},
   "source": [
    "10. Check [']\n",
    "    * Check City with [']"
   ]
  },
  {
   "cell_type": "code",
   "execution_count": 26,
   "metadata": {},
   "outputs": [
    {
     "name": "stdout",
     "output_type": "stream",
     "text": [
      "Special Character: '\n",
      "\n",
      "City having ':\n",
      "          Provider  Individual        Zip            City State Country SpecialChar   Original_City\n",
      "35256   1003355298        True  838142668   COEUR D'ALENE    ID      US           '   COEUR D'ALENE\n",
      "48252   1003485624        True  633660000        O'FALLON    MO      US           '        O'FALLON\n",
      "61916   1003838400        True  244776712  STUART'S DRAFT    VA      US           '  STUART'S DRAFT\n",
      "75535   1003975087       False  838142601   COEUR D'ALENE    ID      US           '   COEUR D'ALENE\n",
      "83397   1013054170        True  633660000        O'FALLON    MO      US           '        O'FALLON\n",
      "127510  1013498302        True  633660000        O'FALLON    MO      US           '        O'FALLON\n",
      "131051  1013533819        True  622690000        O'FALLON    IL      US           '        O'FALLON\n",
      "144367  1013672534        True  838140000   COEUR D'ALENE    ID      US           '   COEUR D'ALENE\n",
      "183067  1023272127       False  499468125          L'ANSE    MI      US           '          L'ANSE\n",
      "196713  1023409844        True  640865713    LEE'S SUMMIT    MO      US           '    LEE'S SUMMIT\n"
     ]
    }
   ],
   "source": [
    "# Investigate special character format\n",
    "special_char = '\\''\n",
    "print('Special Character:', special_char)\n",
    "\n",
    "check_city(data, special_char, 10)"
   ]
  },
  {
   "cell_type": "markdown",
   "metadata": {},
   "source": [
    "10. Clean ['] \n",
    "    * Remove ['] ->[]"
   ]
  },
  {
   "cell_type": "code",
   "execution_count": 27,
   "metadata": {},
   "outputs": [
    {
     "name": "stderr",
     "output_type": "stream",
     "text": [
      "C:\\Users\\denni\\AppData\\Local\\Temp\\ipykernel_21856\\69216771.py:11: SettingWithCopyWarning: \n",
      "A value is trying to be set on a copy of a slice from a DataFrame.\n",
      "Try using .loc[row_indexer,col_indexer] = value instead\n",
      "\n",
      "See the caveats in the documentation: https://pandas.pydata.org/pandas-docs/stable/user_guide/indexing.html#returning-a-view-versus-a-copy\n",
      "  data['City'] = data['City'].str.replace(old_value,new_value, regex=regexFlag)\n"
     ]
    },
    {
     "name": "stdout",
     "output_type": "stream",
     "text": [
      "\n",
      "City having ':\n",
      "         Provider  Individual        Zip           City State Country SpecialChar   Original_City\n",
      "35256  1003355298        True  838142668   COEUR DALENE    ID      US           '   COEUR D'ALENE\n",
      "48252  1003485624        True  633660000        OFALLON    MO      US           '        O'FALLON\n",
      "61916  1003838400        True  244776712  STUARTS DRAFT    VA      US           '  STUART'S DRAFT\n",
      "75535  1003975087       False  838142601   COEUR DALENE    ID      US           '   COEUR D'ALENE\n",
      "83397  1013054170        True  633660000        OFALLON    MO      US           '        O'FALLON\n",
      "\n",
      "City having COEUR DALENE:\n",
      "           Provider  Individual        Zip          City State Country SpecialChar Original_City\n",
      "323089   1043320179        True  838150000  COEUR DALENE    ID      US        None  COEUR DALENE\n",
      "588389   1073648945        True  838140000  COEUR DALENE    ID      US        None  COEUR DALENE\n",
      "3682504  1477186138        True  838140000  COEUR DALENE    ID      US        None  COEUR DALENE\n",
      "3878877  1497816144        True  838150000  COEUR DALENE    ID      US        None  COEUR DALENE\n",
      "7337591  1942317664       False  838140000  COEUR DALENE    ID      US        None  COEUR DALENE\n"
     ]
    }
   ],
   "source": [
    "# Remove [']\n",
    "clean_city(data, '\\'', '', False)\n",
    "\n",
    "check_city(data, '\\'')\n",
    "\n",
    "check_city(data, 'COEUR DALENE')"
   ]
  },
  {
   "cell_type": "markdown",
   "metadata": {},
   "source": [
    "* Remove word CITY from City field\n",
    "\n",
    "Some city values has 'CITY' suffix that makes it eliminate in matching records"
   ]
  },
  {
   "cell_type": "code",
   "execution_count": 28,
   "metadata": {},
   "outputs": [
    {
     "name": "stdout",
     "output_type": "stream",
     "text": [
      "\n",
      "City having  CITY:\n",
      "       Provider  Individual        Zip           City State Country SpecialChar  Original_City\n",
      "31   1003000415        True  320251607      LAKE CITY    FL      US        None      LAKE CITY\n",
      "47   1003000571       False  641282515    KANSAS CITY    MO      US        None    KANSAS CITY\n",
      "190  1003002007        True  940621303   REDWOOD CITY    CA      US        None   REDWOOD CITY\n",
      "231  1003002411        True  210433383  ELLICOTT CITY    MD      US        None  ELLICOTT CITY\n",
      "373  1003003831       False  731182235  OKLAHOMA CITY    OK      US        None  OKLAHOMA CITY\n",
      "388  1003003989        True  897031541    CARSON CITY    NV      US        None    CARSON CITY\n",
      "394  1003004045        True  940631510   REDWOOD CITY    CA      US        None   REDWOOD CITY\n",
      "521  1003005315        True  496846941  TRAVERSE CITY    MI      US        None  TRAVERSE CITY\n",
      "733  1003007436        True  684101930  NEBRASKA CITY    NE      US        None  NEBRASKA CITY\n",
      "764  1003007741        True  431233993     GROVE CITY    OH      US        None     GROVE CITY\n"
     ]
    },
    {
     "name": "stderr",
     "output_type": "stream",
     "text": [
      "C:\\Users\\denni\\AppData\\Local\\Temp\\ipykernel_21856\\69216771.py:11: SettingWithCopyWarning: \n",
      "A value is trying to be set on a copy of a slice from a DataFrame.\n",
      "Try using .loc[row_indexer,col_indexer] = value instead\n",
      "\n",
      "See the caveats in the documentation: https://pandas.pydata.org/pandas-docs/stable/user_guide/indexing.html#returning-a-view-versus-a-copy\n",
      "  data['City'] = data['City'].str.replace(old_value,new_value, regex=regexFlag)\n"
     ]
    },
    {
     "name": "stdout",
     "output_type": "stream",
     "text": [
      "\n",
      "City having  CITY:\n",
      "       Provider  Individual        Zip      City State Country SpecialChar  Original_City\n",
      "31   1003000415        True  320251607      LAKE    FL      US        None      LAKE CITY\n",
      "47   1003000571       False  641282515    KANSAS    MO      US        None    KANSAS CITY\n",
      "190  1003002007        True  940621303   REDWOOD    CA      US        None   REDWOOD CITY\n",
      "231  1003002411        True  210433383  ELLICOTT    MD      US        None  ELLICOTT CITY\n",
      "373  1003003831       False  731182235  OKLAHOMA    OK      US        None  OKLAHOMA CITY\n",
      "\n",
      "City having NEW YORK:\n",
      "       Provider  Individual        Zip      City State Country SpecialChar Original_City\n",
      "262  1003002726        True  100161032  NEW YORK    NY      US        None      NEW YORK\n",
      "270  1003002809        True  100118664  NEW YORK    NY      US        None      NEW YORK\n",
      "460  1003004706       False  100352745  NEW YORK    NY      US        None      NEW YORK\n",
      "527  1003005372        True  100654870  NEW YORK    NY      US        None      NEW YORK\n",
      "564  1003005745        True  100323726  NEW YORK    NY      US        None      NEW YORK\n",
      "\n",
      "City having NEW YORK CITY:\n",
      "          Provider  Individual        Zip      City State Country SpecialChar  Original_City\n",
      "5105    1003051236        True  100100000  NEW YORK    NY      US        None  NEW YORK CITY\n",
      "76524   1003984998        True  100380000  NEW YORK    NY      US        None  NEW YORK CITY\n",
      "89545   1013115880        True  100160000  NEW YORK    NY      US        None  NEW YORK CITY\n",
      "107600  1013296896        True  100400000  NEW YORK    NY      US        None  NEW YORK CITY\n",
      "108104  1013301951        True  100226828  NEW YORK    NY      US        None  NEW YORK CITY\n"
     ]
    }
   ],
   "source": [
    "# Remove [ CITY]\n",
    "check_city(data, ' CITY', 10)\n",
    "\n",
    "clean_city(data, ' CITY', '', False)\n",
    "\n",
    "check_city(data, ' CITY')\n",
    "check_city(data, 'NEW YORK')\n",
    "check_city(data, 'NEW YORK CITY')"
   ]
  },
  {
   "cell_type": "markdown",
   "metadata": {},
   "source": [
    "* Remove spaces around City column value"
   ]
  },
  {
   "cell_type": "code",
   "execution_count": 29,
   "metadata": {},
   "outputs": [
    {
     "name": "stderr",
     "output_type": "stream",
     "text": [
      "C:\\Users\\denni\\AppData\\Local\\Temp\\ipykernel_21856\\3689059576.py:1: SettingWithCopyWarning: \n",
      "A value is trying to be set on a copy of a slice from a DataFrame.\n",
      "Try using .loc[row_indexer,col_indexer] = value instead\n",
      "\n",
      "See the caveats in the documentation: https://pandas.pydata.org/pandas-docs/stable/user_guide/indexing.html#returning-a-view-versus-a-copy\n",
      "  data['City'] = data['City'].str.strip()\n"
     ]
    }
   ],
   "source": [
    "data['City'] = data['City'].str.strip()"
   ]
  },
  {
   "cell_type": "markdown",
   "metadata": {},
   "source": [
    "### Delete SpecialChar column"
   ]
  },
  {
   "cell_type": "code",
   "execution_count": 30,
   "metadata": {},
   "outputs": [
    {
     "name": "stderr",
     "output_type": "stream",
     "text": [
      "C:\\Users\\denni\\AppData\\Local\\Temp\\ipykernel_21856\\3091474651.py:1: SettingWithCopyWarning: \n",
      "A value is trying to be set on a copy of a slice from a DataFrame\n",
      "\n",
      "See the caveats in the documentation: https://pandas.pydata.org/pandas-docs/stable/user_guide/indexing.html#returning-a-view-versus-a-copy\n",
      "  data.drop(columns='SpecialChar', inplace=True)\n"
     ]
    },
    {
     "data": {
      "text/plain": [
       "Index(['Provider', 'Individual', 'Zip', 'City', 'State', 'Country', 'Original_City'], dtype='object')"
      ]
     },
     "execution_count": 30,
     "metadata": {},
     "output_type": "execute_result"
    }
   ],
   "source": [
    "data.drop(columns='SpecialChar', inplace=True)\n",
    "data.columns"
   ]
  },
  {
   "cell_type": "markdown",
   "metadata": {},
   "source": [
    "### Save to new file Provider_clean.csv"
   ]
  },
  {
   "cell_type": "code",
   "execution_count": 31,
   "metadata": {},
   "outputs": [],
   "source": [
    "data.to_csv(\n",
    "    'Provider_clean.csv',\n",
    "    index=False,\n",
    "    quoting=QUOTE_ALL\n",
    ")"
   ]
  },
  {
   "cell_type": "markdown",
   "metadata": {},
   "source": [
    "### Summary of cleaning City\n",
    "* .();:#' > delete\n",
    "* \\- > space\n",
    "* & > AND\n",
    "* / use as delimiter of multiple cities and get only the first item\n",
    "* , use as delimiter of multiple details such as street and city and get only the first item\n",
    "* Delete CITY word  for consistency"
   ]
  }
 ],
 "metadata": {
  "kernelspec": {
   "display_name": "Python 3 (ipykernel)",
   "language": "python",
   "name": "python3"
  },
  "language_info": {
   "codemirror_mode": {
    "name": "ipython",
    "version": 3
   },
   "file_extension": ".py",
   "mimetype": "text/x-python",
   "name": "python",
   "nbconvert_exporter": "python",
   "pygments_lexer": "ipython3",
   "version": "3.11.8"
  }
 },
 "nbformat": 4,
 "nbformat_minor": 2
}
